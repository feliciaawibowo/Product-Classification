{
  "cells": [
    {
      "cell_type": "markdown",
      "source": [
        "Nama: Felicia Arief Wibowo\n",
        "\n",
        "NIM: 2602070566"
      ],
      "metadata": {
        "id": "PFazzmOjikRh"
      }
    },
    {
      "cell_type": "code",
      "execution_count": 37,
      "metadata": {
        "id": "MPwHbYMyJSVI"
      },
      "outputs": [],
      "source": [
        "import pandas as pd\n",
        "import numpy as np"
      ]
    },
    {
      "cell_type": "code",
      "execution_count": 38,
      "metadata": {
        "colab": {
          "base_uri": "https://localhost:8080/",
          "height": 206
        },
        "id": "FCrQcfCYJoCG",
        "outputId": "73e02489-b537-4040-8135-8c4d3b7f7f69"
      },
      "outputs": [
        {
          "output_type": "execute_result",
          "data": {
            "text/plain": [
              "   Unnamed: 0                                               text  \\\n",
              "0           0  Tamron AF 70-300mm F/4.0-5.6 Di LD Macro Telep...   \n",
              "1           1         Softline Butterfly Women's Cotton Camisole   \n",
              "2           2  Indian Economy: For UPSC Civil Services & Othe...   \n",
              "3           3  Fujifilm X-T3 Mirrorless Digital Camera with X...   \n",
              "4           4  Barata Formal Ties For Men, Navy Blue Tie Form...   \n",
              "\n",
              "                    label  \n",
              "0             Electronics  \n",
              "1  Clothing & Accessories  \n",
              "2                   Books  \n",
              "3             Electronics  \n",
              "4  Clothing & Accessories  "
            ],
            "text/html": [
              "\n",
              "  <div id=\"df-637321ff-14ea-4e0c-9938-5ece2fab589e\" class=\"colab-df-container\">\n",
              "    <div>\n",
              "<style scoped>\n",
              "    .dataframe tbody tr th:only-of-type {\n",
              "        vertical-align: middle;\n",
              "    }\n",
              "\n",
              "    .dataframe tbody tr th {\n",
              "        vertical-align: top;\n",
              "    }\n",
              "\n",
              "    .dataframe thead th {\n",
              "        text-align: right;\n",
              "    }\n",
              "</style>\n",
              "<table border=\"1\" class=\"dataframe\">\n",
              "  <thead>\n",
              "    <tr style=\"text-align: right;\">\n",
              "      <th></th>\n",
              "      <th>Unnamed: 0</th>\n",
              "      <th>text</th>\n",
              "      <th>label</th>\n",
              "    </tr>\n",
              "  </thead>\n",
              "  <tbody>\n",
              "    <tr>\n",
              "      <th>0</th>\n",
              "      <td>0</td>\n",
              "      <td>Tamron AF 70-300mm F/4.0-5.6 Di LD Macro Telep...</td>\n",
              "      <td>Electronics</td>\n",
              "    </tr>\n",
              "    <tr>\n",
              "      <th>1</th>\n",
              "      <td>1</td>\n",
              "      <td>Softline Butterfly Women's Cotton Camisole</td>\n",
              "      <td>Clothing &amp; Accessories</td>\n",
              "    </tr>\n",
              "    <tr>\n",
              "      <th>2</th>\n",
              "      <td>2</td>\n",
              "      <td>Indian Economy: For UPSC Civil Services &amp; Othe...</td>\n",
              "      <td>Books</td>\n",
              "    </tr>\n",
              "    <tr>\n",
              "      <th>3</th>\n",
              "      <td>3</td>\n",
              "      <td>Fujifilm X-T3 Mirrorless Digital Camera with X...</td>\n",
              "      <td>Electronics</td>\n",
              "    </tr>\n",
              "    <tr>\n",
              "      <th>4</th>\n",
              "      <td>4</td>\n",
              "      <td>Barata Formal Ties For Men, Navy Blue Tie Form...</td>\n",
              "      <td>Clothing &amp; Accessories</td>\n",
              "    </tr>\n",
              "  </tbody>\n",
              "</table>\n",
              "</div>\n",
              "    <div class=\"colab-df-buttons\">\n",
              "\n",
              "  <div class=\"colab-df-container\">\n",
              "    <button class=\"colab-df-convert\" onclick=\"convertToInteractive('df-637321ff-14ea-4e0c-9938-5ece2fab589e')\"\n",
              "            title=\"Convert this dataframe to an interactive table.\"\n",
              "            style=\"display:none;\">\n",
              "\n",
              "  <svg xmlns=\"http://www.w3.org/2000/svg\" height=\"24px\" viewBox=\"0 -960 960 960\">\n",
              "    <path d=\"M120-120v-720h720v720H120Zm60-500h600v-160H180v160Zm220 220h160v-160H400v160Zm0 220h160v-160H400v160ZM180-400h160v-160H180v160Zm440 0h160v-160H620v160ZM180-180h160v-160H180v160Zm440 0h160v-160H620v160Z\"/>\n",
              "  </svg>\n",
              "    </button>\n",
              "\n",
              "  <style>\n",
              "    .colab-df-container {\n",
              "      display:flex;\n",
              "      gap: 12px;\n",
              "    }\n",
              "\n",
              "    .colab-df-convert {\n",
              "      background-color: #E8F0FE;\n",
              "      border: none;\n",
              "      border-radius: 50%;\n",
              "      cursor: pointer;\n",
              "      display: none;\n",
              "      fill: #1967D2;\n",
              "      height: 32px;\n",
              "      padding: 0 0 0 0;\n",
              "      width: 32px;\n",
              "    }\n",
              "\n",
              "    .colab-df-convert:hover {\n",
              "      background-color: #E2EBFA;\n",
              "      box-shadow: 0px 1px 2px rgba(60, 64, 67, 0.3), 0px 1px 3px 1px rgba(60, 64, 67, 0.15);\n",
              "      fill: #174EA6;\n",
              "    }\n",
              "\n",
              "    .colab-df-buttons div {\n",
              "      margin-bottom: 4px;\n",
              "    }\n",
              "\n",
              "    [theme=dark] .colab-df-convert {\n",
              "      background-color: #3B4455;\n",
              "      fill: #D2E3FC;\n",
              "    }\n",
              "\n",
              "    [theme=dark] .colab-df-convert:hover {\n",
              "      background-color: #434B5C;\n",
              "      box-shadow: 0px 1px 3px 1px rgba(0, 0, 0, 0.15);\n",
              "      filter: drop-shadow(0px 1px 2px rgba(0, 0, 0, 0.3));\n",
              "      fill: #FFFFFF;\n",
              "    }\n",
              "  </style>\n",
              "\n",
              "    <script>\n",
              "      const buttonEl =\n",
              "        document.querySelector('#df-637321ff-14ea-4e0c-9938-5ece2fab589e button.colab-df-convert');\n",
              "      buttonEl.style.display =\n",
              "        google.colab.kernel.accessAllowed ? 'block' : 'none';\n",
              "\n",
              "      async function convertToInteractive(key) {\n",
              "        const element = document.querySelector('#df-637321ff-14ea-4e0c-9938-5ece2fab589e');\n",
              "        const dataTable =\n",
              "          await google.colab.kernel.invokeFunction('convertToInteractive',\n",
              "                                                    [key], {});\n",
              "        if (!dataTable) return;\n",
              "\n",
              "        const docLinkHtml = 'Like what you see? Visit the ' +\n",
              "          '<a target=\"_blank\" href=https://colab.research.google.com/notebooks/data_table.ipynb>data table notebook</a>'\n",
              "          + ' to learn more about interactive tables.';\n",
              "        element.innerHTML = '';\n",
              "        dataTable['output_type'] = 'display_data';\n",
              "        await google.colab.output.renderOutput(dataTable, element);\n",
              "        const docLink = document.createElement('div');\n",
              "        docLink.innerHTML = docLinkHtml;\n",
              "        element.appendChild(docLink);\n",
              "      }\n",
              "    </script>\n",
              "  </div>\n",
              "\n",
              "\n",
              "<div id=\"df-e9740629-31c6-4056-98b8-3b892e18e652\">\n",
              "  <button class=\"colab-df-quickchart\" onclick=\"quickchart('df-e9740629-31c6-4056-98b8-3b892e18e652')\"\n",
              "            title=\"Suggest charts\"\n",
              "            style=\"display:none;\">\n",
              "\n",
              "<svg xmlns=\"http://www.w3.org/2000/svg\" height=\"24px\"viewBox=\"0 0 24 24\"\n",
              "     width=\"24px\">\n",
              "    <g>\n",
              "        <path d=\"M19 3H5c-1.1 0-2 .9-2 2v14c0 1.1.9 2 2 2h14c1.1 0 2-.9 2-2V5c0-1.1-.9-2-2-2zM9 17H7v-7h2v7zm4 0h-2V7h2v10zm4 0h-2v-4h2v4z\"/>\n",
              "    </g>\n",
              "</svg>\n",
              "  </button>\n",
              "\n",
              "<style>\n",
              "  .colab-df-quickchart {\n",
              "      --bg-color: #E8F0FE;\n",
              "      --fill-color: #1967D2;\n",
              "      --hover-bg-color: #E2EBFA;\n",
              "      --hover-fill-color: #174EA6;\n",
              "      --disabled-fill-color: #AAA;\n",
              "      --disabled-bg-color: #DDD;\n",
              "  }\n",
              "\n",
              "  [theme=dark] .colab-df-quickchart {\n",
              "      --bg-color: #3B4455;\n",
              "      --fill-color: #D2E3FC;\n",
              "      --hover-bg-color: #434B5C;\n",
              "      --hover-fill-color: #FFFFFF;\n",
              "      --disabled-bg-color: #3B4455;\n",
              "      --disabled-fill-color: #666;\n",
              "  }\n",
              "\n",
              "  .colab-df-quickchart {\n",
              "    background-color: var(--bg-color);\n",
              "    border: none;\n",
              "    border-radius: 50%;\n",
              "    cursor: pointer;\n",
              "    display: none;\n",
              "    fill: var(--fill-color);\n",
              "    height: 32px;\n",
              "    padding: 0;\n",
              "    width: 32px;\n",
              "  }\n",
              "\n",
              "  .colab-df-quickchart:hover {\n",
              "    background-color: var(--hover-bg-color);\n",
              "    box-shadow: 0 1px 2px rgba(60, 64, 67, 0.3), 0 1px 3px 1px rgba(60, 64, 67, 0.15);\n",
              "    fill: var(--button-hover-fill-color);\n",
              "  }\n",
              "\n",
              "  .colab-df-quickchart-complete:disabled,\n",
              "  .colab-df-quickchart-complete:disabled:hover {\n",
              "    background-color: var(--disabled-bg-color);\n",
              "    fill: var(--disabled-fill-color);\n",
              "    box-shadow: none;\n",
              "  }\n",
              "\n",
              "  .colab-df-spinner {\n",
              "    border: 2px solid var(--fill-color);\n",
              "    border-color: transparent;\n",
              "    border-bottom-color: var(--fill-color);\n",
              "    animation:\n",
              "      spin 1s steps(1) infinite;\n",
              "  }\n",
              "\n",
              "  @keyframes spin {\n",
              "    0% {\n",
              "      border-color: transparent;\n",
              "      border-bottom-color: var(--fill-color);\n",
              "      border-left-color: var(--fill-color);\n",
              "    }\n",
              "    20% {\n",
              "      border-color: transparent;\n",
              "      border-left-color: var(--fill-color);\n",
              "      border-top-color: var(--fill-color);\n",
              "    }\n",
              "    30% {\n",
              "      border-color: transparent;\n",
              "      border-left-color: var(--fill-color);\n",
              "      border-top-color: var(--fill-color);\n",
              "      border-right-color: var(--fill-color);\n",
              "    }\n",
              "    40% {\n",
              "      border-color: transparent;\n",
              "      border-right-color: var(--fill-color);\n",
              "      border-top-color: var(--fill-color);\n",
              "    }\n",
              "    60% {\n",
              "      border-color: transparent;\n",
              "      border-right-color: var(--fill-color);\n",
              "    }\n",
              "    80% {\n",
              "      border-color: transparent;\n",
              "      border-right-color: var(--fill-color);\n",
              "      border-bottom-color: var(--fill-color);\n",
              "    }\n",
              "    90% {\n",
              "      border-color: transparent;\n",
              "      border-bottom-color: var(--fill-color);\n",
              "    }\n",
              "  }\n",
              "</style>\n",
              "\n",
              "  <script>\n",
              "    async function quickchart(key) {\n",
              "      const quickchartButtonEl =\n",
              "        document.querySelector('#' + key + ' button');\n",
              "      quickchartButtonEl.disabled = true;  // To prevent multiple clicks.\n",
              "      quickchartButtonEl.classList.add('colab-df-spinner');\n",
              "      try {\n",
              "        const charts = await google.colab.kernel.invokeFunction(\n",
              "            'suggestCharts', [key], {});\n",
              "      } catch (error) {\n",
              "        console.error('Error during call to suggestCharts:', error);\n",
              "      }\n",
              "      quickchartButtonEl.classList.remove('colab-df-spinner');\n",
              "      quickchartButtonEl.classList.add('colab-df-quickchart-complete');\n",
              "    }\n",
              "    (() => {\n",
              "      let quickchartButtonEl =\n",
              "        document.querySelector('#df-e9740629-31c6-4056-98b8-3b892e18e652 button');\n",
              "      quickchartButtonEl.style.display =\n",
              "        google.colab.kernel.accessAllowed ? 'block' : 'none';\n",
              "    })();\n",
              "  </script>\n",
              "</div>\n",
              "\n",
              "    </div>\n",
              "  </div>\n"
            ],
            "application/vnd.google.colaboratory.intrinsic+json": {
              "type": "dataframe",
              "variable_name": "df",
              "summary": "{\n  \"name\": \"df\",\n  \"rows\": 12606,\n  \"fields\": [\n    {\n      \"column\": \"Unnamed: 0\",\n      \"properties\": {\n        \"dtype\": \"number\",\n        \"std\": 3639,\n        \"min\": 0,\n        \"max\": 12605,\n        \"num_unique_values\": 12606,\n        \"samples\": [\n          8466,\n          1399,\n          4635\n        ],\n        \"semantic_type\": \"\",\n        \"description\": \"\"\n      }\n    },\n    {\n      \"column\": \"text\",\n      \"properties\": {\n        \"dtype\": \"string\",\n        \"num_unique_values\": 10454,\n        \"samples\": [\n          \"Envie ECR 20 + 4xAA 2800mAh Battery Charger with Rechargeable Battery Set (White) Beetle charger can charge 2/4 pieces AA/AAA Ni-MH/ Ni-Cd rechargeable batteries, output current 240 mA for AA/AAA. Use it between temperature 0 degree Celsius - 35 degree Celsius. Prevent from reverse polarity. Envie Rechargeable AA 2800mAh battery - The set of batteries have a current rating of 2800mAh. These batteries have Ni-MH (Nickel-Metal Hydride) electrodes to provide you with a safe and stable environment. The batteries are rechargeable and allow you to use them multiple times. The AA Sized battery is compatible with a large number of devices including remote controls, electronic toys, cameras, flashlights, torches and various other devices.\",\n          \"A Survival Guide for Life\",\n          \"ASkyl 90X Zoom Land and Sky View Telescope (Silver) Telescope is not only for sky use, but also for terrestrial use, weather you travel or stay at home. Specification: Model: af36050 upgrade Optical system: refractorMagnification: 18x, 27x, 60x, 90x (6mm eyepiece + magnification = 60x, 6mm eyepiece + magnification with 1.5x erecting eyepiece = 90x; 20mm eyepiece +Magnification = 18x, 20mm eyepiece + magnification with 1.5x erecting eyepiece = 27x)Aperture: 50mm/2.0 inchFocal length: 360mmDiagonal prisms: 90 degree angle prismEyepiece: 2 pieces Clear views Fully multi-coated optics glass lens reaches 99.5% transmittance. It has clear imaging effect and stirring visual effect. H20mm, h6mm, 1.5x erecting eyepiece help you could see things from different distances and sizes objects. This astronomical telescope is a specially designed for students, beginners, kids, teens, entry- level amateur astronomers. H20mm, terrestrial use Main tube + angle prism+ h20mm H6mm, astronomical use 1. Insert the moon lens into the eyepiece h6mm and then screw it 2. Main tube + angle prism+ h20mm Increase the magnification of image 1. Main tube + 1.5x erecting eyepiece+ h20mm/ h6mm Package include: Telescope x 1H20mm eyepiece x 1H6mm eyepiece x 1Moon lens x 11.5x erecting eyepiece x 113.5 inch height aluminium tripod x 1 cary caseInstruction manual x 1 Warm tips: Do not observe the sun directly through the telescope.The telescope could be enhanced by changing the magnification.It is not able to seize the vision if the star in a far distance.The view of scenery is normal applicable.\"\n        ],\n        \"semantic_type\": \"\",\n        \"description\": \"\"\n      }\n    },\n    {\n      \"column\": \"label\",\n      \"properties\": {\n        \"dtype\": \"category\",\n        \"num_unique_values\": 4,\n        \"samples\": [\n          \"Clothing & Accessories\",\n          \"Household\",\n          \"Electronics\"\n        ],\n        \"semantic_type\": \"\",\n        \"description\": \"\"\n      }\n    }\n  ]\n}"
            }
          },
          "metadata": {},
          "execution_count": 38
        }
      ],
      "source": [
        "df = pd.read_csv('data_1D.csv')\n",
        "df.head()"
      ]
    },
    {
      "cell_type": "code",
      "execution_count": 39,
      "metadata": {
        "colab": {
          "base_uri": "https://localhost:8080/"
        },
        "id": "RxOR6mLrjPNe",
        "outputId": "3d1408f4-0152-43eb-b1cd-67498cd22f0f"
      },
      "outputs": [
        {
          "output_type": "stream",
          "name": "stdout",
          "text": [
            "Jumlah data: 12606\n"
          ]
        }
      ],
      "source": [
        "print(f\"Jumlah data: {len(df)}\")"
      ]
    },
    {
      "cell_type": "code",
      "execution_count": 40,
      "metadata": {
        "id": "mt80KAA3il62"
      },
      "outputs": [],
      "source": [
        "df = df.drop_duplicates(subset=['text'])"
      ]
    },
    {
      "cell_type": "code",
      "execution_count": 41,
      "metadata": {
        "colab": {
          "base_uri": "https://localhost:8080/"
        },
        "id": "0qdZlmQSjXgJ",
        "outputId": "ba819a58-9863-4a71-e375-3679ce34003b"
      },
      "outputs": [
        {
          "output_type": "stream",
          "name": "stdout",
          "text": [
            "Jumlah baris setelah duplikasi dihapus: 10454\n"
          ]
        }
      ],
      "source": [
        "print(f\"Jumlah baris setelah duplikasi dihapus: {len(df)}\")"
      ]
    },
    {
      "cell_type": "markdown",
      "source": [
        "### **Splitting Data**"
      ],
      "metadata": {
        "id": "3jQ2k6s0nPZB"
      }
    },
    {
      "cell_type": "code",
      "execution_count": 42,
      "metadata": {
        "id": "DxBJVSbHkqsU"
      },
      "outputs": [],
      "source": [
        "from sklearn.model_selection import train_test_split\n",
        "x = df['text']\n",
        "y = df['label']\n",
        "x_train, x_test, y_train, y_test = train_test_split(x, y, test_size=0.2, random_state=42)"
      ]
    },
    {
      "cell_type": "markdown",
      "metadata": {
        "id": "E4Yeb8oCEV9V"
      },
      "source": [
        "### **Preprocessing**"
      ]
    },
    {
      "cell_type": "markdown",
      "source": [
        "Dalam proses ini, saya melakukan mengubah komentar-komentar yang sudah dikumpulkan menjadi cleantext, saya menghapus hashtag, angka, tanda baca, dan mengubah seluruh kata ke lowercase. Lalu setelah itu saya melakukan tokenization untuk membagi kata per kata, stopword juga dihapuskan dan yang terakhir stemming untuk mengubah kata menjadi bentuk dasarnya."
      ],
      "metadata": {
        "id": "ibnJc_vSzoOs"
      }
    },
    {
      "cell_type": "code",
      "execution_count": 43,
      "metadata": {
        "colab": {
          "base_uri": "https://localhost:8080/"
        },
        "id": "FKm6-EZ3F1FX",
        "outputId": "bb12571c-3b63-4e3b-c141-74b3b10daa46"
      },
      "outputs": [
        {
          "output_type": "stream",
          "name": "stderr",
          "text": [
            "[nltk_data] Downloading package stopwords to /root/nltk_data...\n",
            "[nltk_data]   Package stopwords is already up-to-date!\n",
            "[nltk_data] Downloading package punkt to /root/nltk_data...\n",
            "[nltk_data]   Package punkt is already up-to-date!\n"
          ]
        },
        {
          "output_type": "execute_result",
          "data": {
            "text/plain": [
              "True"
            ]
          },
          "metadata": {},
          "execution_count": 43
        }
      ],
      "source": [
        "import nltk\n",
        "nltk.download('stopwords')\n",
        "nltk.download('punkt')"
      ]
    },
    {
      "cell_type": "code",
      "execution_count": 44,
      "metadata": {
        "id": "T1xXm2KXEJEZ"
      },
      "outputs": [],
      "source": [
        "import re\n",
        "from nltk.corpus import stopwords\n",
        "from nltk.tokenize import word_tokenize\n",
        "from nltk import PorterStemmer"
      ]
    },
    {
      "cell_type": "code",
      "execution_count": 45,
      "metadata": {
        "id": "Qz79sjOfJwvS"
      },
      "outputs": [],
      "source": [
        "#cleansing function\n",
        "def cleansing(text):\n",
        "    text = re.sub(r'#\\w+', '', text)     # hapus hashtag\n",
        "    text = re.sub(r'\\d+', '', text)      # hapus angka\n",
        "    text = re.sub(r'[^\\w\\s]', '', text)  # hapus tanda baca\n",
        "    text = text.lower()                  # ubah ke huruf kecil\n",
        "    return text\n",
        "\n",
        "stemmer = PorterStemmer()\n",
        "stop_words = set(stopwords.words('english'))\n",
        "\n",
        "\n",
        "def preprocess(text):\n",
        "    text = cleansing(text)\n",
        "    words = word_tokenize(text)\n",
        "    words = [word for word in words if word not in stop_words]\n",
        "    words = [stemmer.stem(word) for word in words]\n",
        "    return ' '.join(words)"
      ]
    },
    {
      "cell_type": "code",
      "execution_count": 46,
      "metadata": {
        "id": "zQUXNHORKO2-"
      },
      "outputs": [],
      "source": [
        "x_train = x_train.apply(preprocess)\n",
        "x_test = x_test.apply(preprocess)"
      ]
    },
    {
      "cell_type": "code",
      "source": [
        "x_train"
      ],
      "metadata": {
        "colab": {
          "base_uri": "https://localhost:8080/",
          "height": 458
        },
        "id": "fcFJ0VPSoM48",
        "outputId": "98efdfcb-11e0-4ec8-e353-1fac7d3afd64"
      },
      "execution_count": 47,
      "outputs": [
        {
          "output_type": "execute_result",
          "data": {
            "text/plain": [
              "520     nta ugc netsetjrf paper teach research aptitud...\n",
              "5234    green tee men colour dhoti pack brown blue gre...\n",
              "4310    maniac women fleec sweatshirt step friend chil...\n",
              "8354    marusthali gold silver plate brass bowl set pc...\n",
              "4230    appl iphon xr white gb ram gb storag mp camera...\n",
              "                              ...                        \n",
              "6371                                     adida women polo\n",
              "5713    glenburn tea direct stainless steel glass pot ...\n",
              "5961    pruthvik hispe gold plate dvid dual link male ...\n",
              "876                                electr engin fundament\n",
              "8254    seven hors black fiber wood wall mirrordress m...\n",
              "Name: text, Length: 8363, dtype: object"
            ],
            "text/html": [
              "<div>\n",
              "<style scoped>\n",
              "    .dataframe tbody tr th:only-of-type {\n",
              "        vertical-align: middle;\n",
              "    }\n",
              "\n",
              "    .dataframe tbody tr th {\n",
              "        vertical-align: top;\n",
              "    }\n",
              "\n",
              "    .dataframe thead th {\n",
              "        text-align: right;\n",
              "    }\n",
              "</style>\n",
              "<table border=\"1\" class=\"dataframe\">\n",
              "  <thead>\n",
              "    <tr style=\"text-align: right;\">\n",
              "      <th></th>\n",
              "      <th>text</th>\n",
              "    </tr>\n",
              "  </thead>\n",
              "  <tbody>\n",
              "    <tr>\n",
              "      <th>520</th>\n",
              "      <td>nta ugc netsetjrf paper teach research aptitud...</td>\n",
              "    </tr>\n",
              "    <tr>\n",
              "      <th>5234</th>\n",
              "      <td>green tee men colour dhoti pack brown blue gre...</td>\n",
              "    </tr>\n",
              "    <tr>\n",
              "      <th>4310</th>\n",
              "      <td>maniac women fleec sweatshirt step friend chil...</td>\n",
              "    </tr>\n",
              "    <tr>\n",
              "      <th>8354</th>\n",
              "      <td>marusthali gold silver plate brass bowl set pc...</td>\n",
              "    </tr>\n",
              "    <tr>\n",
              "      <th>4230</th>\n",
              "      <td>appl iphon xr white gb ram gb storag mp camera...</td>\n",
              "    </tr>\n",
              "    <tr>\n",
              "      <th>...</th>\n",
              "      <td>...</td>\n",
              "    </tr>\n",
              "    <tr>\n",
              "      <th>6371</th>\n",
              "      <td>adida women polo</td>\n",
              "    </tr>\n",
              "    <tr>\n",
              "      <th>5713</th>\n",
              "      <td>glenburn tea direct stainless steel glass pot ...</td>\n",
              "    </tr>\n",
              "    <tr>\n",
              "      <th>5961</th>\n",
              "      <td>pruthvik hispe gold plate dvid dual link male ...</td>\n",
              "    </tr>\n",
              "    <tr>\n",
              "      <th>876</th>\n",
              "      <td>electr engin fundament</td>\n",
              "    </tr>\n",
              "    <tr>\n",
              "      <th>8254</th>\n",
              "      <td>seven hors black fiber wood wall mirrordress m...</td>\n",
              "    </tr>\n",
              "  </tbody>\n",
              "</table>\n",
              "<p>8363 rows × 1 columns</p>\n",
              "</div><br><label><b>dtype:</b> object</label>"
            ]
          },
          "metadata": {},
          "execution_count": 47
        }
      ]
    },
    {
      "cell_type": "code",
      "execution_count": 48,
      "metadata": {
        "colab": {
          "base_uri": "https://localhost:8080/",
          "height": 458
        },
        "id": "vw_XxxO0K0qb",
        "outputId": "3c56ea46-682c-4f7d-df9a-3c60c64b915d"
      },
      "outputs": [
        {
          "output_type": "execute_result",
          "data": {
            "text/plain": [
              "6855     envi ecr xaa mah batteri charger recharg batte...\n",
              "5813                                      surviv guid life\n",
              "3391     askyl x zoom land sky view telescop silver tel...\n",
              "3894     gener electr solder iron stand tool wire strip...\n",
              "3056     curiou georg visit librari author han margret ...\n",
              "                               ...                        \n",
              "11321    rolltop comput intel core duo ghz processor ra...\n",
              "8624     quantum doctor quantum physicist explain heal ...\n",
              "623      larwa men polyest dupion lace embroid dhoti db...\n",
              "11712    rt extern hd inch usb power floppydisk drive p...\n",
              "5127     brand affair present premium qualiti hd clear ...\n",
              "Name: text, Length: 2091, dtype: object"
            ],
            "text/html": [
              "<div>\n",
              "<style scoped>\n",
              "    .dataframe tbody tr th:only-of-type {\n",
              "        vertical-align: middle;\n",
              "    }\n",
              "\n",
              "    .dataframe tbody tr th {\n",
              "        vertical-align: top;\n",
              "    }\n",
              "\n",
              "    .dataframe thead th {\n",
              "        text-align: right;\n",
              "    }\n",
              "</style>\n",
              "<table border=\"1\" class=\"dataframe\">\n",
              "  <thead>\n",
              "    <tr style=\"text-align: right;\">\n",
              "      <th></th>\n",
              "      <th>text</th>\n",
              "    </tr>\n",
              "  </thead>\n",
              "  <tbody>\n",
              "    <tr>\n",
              "      <th>6855</th>\n",
              "      <td>envi ecr xaa mah batteri charger recharg batte...</td>\n",
              "    </tr>\n",
              "    <tr>\n",
              "      <th>5813</th>\n",
              "      <td>surviv guid life</td>\n",
              "    </tr>\n",
              "    <tr>\n",
              "      <th>3391</th>\n",
              "      <td>askyl x zoom land sky view telescop silver tel...</td>\n",
              "    </tr>\n",
              "    <tr>\n",
              "      <th>3894</th>\n",
              "      <td>gener electr solder iron stand tool wire strip...</td>\n",
              "    </tr>\n",
              "    <tr>\n",
              "      <th>3056</th>\n",
              "      <td>curiou georg visit librari author han margret ...</td>\n",
              "    </tr>\n",
              "    <tr>\n",
              "      <th>...</th>\n",
              "      <td>...</td>\n",
              "    </tr>\n",
              "    <tr>\n",
              "      <th>11321</th>\n",
              "      <td>rolltop comput intel core duo ghz processor ra...</td>\n",
              "    </tr>\n",
              "    <tr>\n",
              "      <th>8624</th>\n",
              "      <td>quantum doctor quantum physicist explain heal ...</td>\n",
              "    </tr>\n",
              "    <tr>\n",
              "      <th>623</th>\n",
              "      <td>larwa men polyest dupion lace embroid dhoti db...</td>\n",
              "    </tr>\n",
              "    <tr>\n",
              "      <th>11712</th>\n",
              "      <td>rt extern hd inch usb power floppydisk drive p...</td>\n",
              "    </tr>\n",
              "    <tr>\n",
              "      <th>5127</th>\n",
              "      <td>brand affair present premium qualiti hd clear ...</td>\n",
              "    </tr>\n",
              "  </tbody>\n",
              "</table>\n",
              "<p>2091 rows × 1 columns</p>\n",
              "</div><br><label><b>dtype:</b> object</label>"
            ]
          },
          "metadata": {},
          "execution_count": 48
        }
      ],
      "source": [
        "x_test"
      ]
    },
    {
      "cell_type": "markdown",
      "metadata": {
        "id": "eu5ATVHDHpz2"
      },
      "source": [
        "# **Modelling**"
      ]
    },
    {
      "cell_type": "markdown",
      "metadata": {
        "id": "-JEmuQ-34N4u"
      },
      "source": [
        "## **Vectorizer: TF-IDF**"
      ]
    },
    {
      "cell_type": "code",
      "execution_count": 49,
      "metadata": {
        "id": "ShE5xnMIK1Hm"
      },
      "outputs": [],
      "source": [
        "from sklearn.feature_extraction.text import TfidfVectorizer\n",
        "from sklearn.model_selection import train_test_split, GridSearchCV\n",
        "from sklearn.svm import SVC\n",
        "from sklearn.ensemble import RandomForestClassifier\n",
        "from sklearn.metrics import accuracy_score, precision_score, recall_score, f1_score, classification_report"
      ]
    },
    {
      "cell_type": "code",
      "execution_count": 50,
      "metadata": {
        "id": "u61OuloLkk6h"
      },
      "outputs": [],
      "source": [
        "vectorizer = TfidfVectorizer()\n",
        "x_train_tfidf = vectorizer.fit_transform(x_train)\n",
        "x_test_tfidf = vectorizer.transform(x_test)\n",
        "y = df['label']"
      ]
    },
    {
      "cell_type": "markdown",
      "metadata": {
        "id": "yPowBNUeQ7B7"
      },
      "source": [
        "### **SVM**"
      ]
    },
    {
      "cell_type": "code",
      "execution_count": 51,
      "metadata": {
        "id": "o3t-F0tLlULo"
      },
      "outputs": [],
      "source": [
        "svm_model = SVC()\n",
        "svm_model.fit(x_train_tfidf, y_train)\n",
        "prediction_svm_tfidf = svm_model.predict(x_test_tfidf)"
      ]
    },
    {
      "cell_type": "code",
      "source": [
        "accuracy_svm_tfidf = accuracy_score(y_test, prediction_svm_tfidf)\n",
        "precision_svm_tfidf = precision_score(y_test, prediction_svm_tfidf, average='weighted')\n",
        "recall_svm_tfidf = recall_score(y_test, prediction_svm_tfidf, average='weighted')\n",
        "f1_svm_tfidf = f1_score(y_test, prediction_svm_tfidf, average='weighted')\n",
        "\n",
        "print(\"Model Evaluation SVM with TF-IDF\")\n",
        "print(f\"Accuracy: {accuracy_svm_tfidf:.4f}\")\n",
        "print(f\"Precision: {precision_svm_tfidf:.4f}\")\n",
        "print(f\"Recall: {recall_svm_tfidf:.4f}\")\n",
        "print(f\"F1 Score: {f1_svm_tfidf:.4f}\")"
      ],
      "metadata": {
        "colab": {
          "base_uri": "https://localhost:8080/"
        },
        "id": "7I6G3QCI0fsJ",
        "outputId": "2a2d21eb-fd36-46be-d5e4-de32334e7bf8"
      },
      "execution_count": 52,
      "outputs": [
        {
          "output_type": "stream",
          "name": "stdout",
          "text": [
            "Model Evaluation SVM with TF-IDF\n",
            "Accuracy: 0.9546\n",
            "Precision: 0.9549\n",
            "Recall: 0.9546\n",
            "F1 Score: 0.9545\n"
          ]
        }
      ]
    },
    {
      "cell_type": "code",
      "execution_count": 53,
      "metadata": {
        "colab": {
          "base_uri": "https://localhost:8080/"
        },
        "id": "32BDYqK-Qvr5",
        "outputId": "530cfef0-96af-40f9-958f-fe0ee5f66888"
      },
      "outputs": [
        {
          "output_type": "stream",
          "name": "stdout",
          "text": [
            "Classification Report SVM dengan TF-IDF:\n",
            "                         precision    recall  f1-score   support\n",
            "\n",
            "                 Books       0.96      0.94      0.95       488\n",
            "Clothing & Accessories       0.98      0.96      0.97       389\n",
            "           Electronics       0.95      0.93      0.94       391\n",
            "             Household       0.94      0.97      0.96       823\n",
            "\n",
            "              accuracy                           0.95      2091\n",
            "             macro avg       0.96      0.95      0.95      2091\n",
            "          weighted avg       0.95      0.95      0.95      2091\n",
            "\n"
          ]
        }
      ],
      "source": [
        "print(\"Classification Report SVM dengan TF-IDF:\\n\", classification_report(y_test, prediction_svm_tfidf))"
      ]
    },
    {
      "cell_type": "markdown",
      "metadata": {
        "id": "QL6TDLYoQZp9"
      },
      "source": [
        "### **Random Forest**"
      ]
    },
    {
      "cell_type": "code",
      "execution_count": 54,
      "metadata": {
        "id": "8yv-wZU2mdk-"
      },
      "outputs": [],
      "source": [
        "rf_model = RandomForestClassifier()\n",
        "rf_model.fit(x_train_tfidf, y_train)\n",
        "prediction_rf_tfidf = rf_model.predict(x_test_tfidf)"
      ]
    },
    {
      "cell_type": "code",
      "source": [
        "accuracy_rf_tfidf = accuracy_score(y_test, prediction_rf_tfidf)\n",
        "precision_rf_tfidf = precision_score(y_test, prediction_rf_tfidf, average='weighted')\n",
        "recall_rf_tfidf = recall_score(y_test, prediction_rf_tfidf, average='weighted')\n",
        "f1_rf_tfidf = f1_score(y_test, prediction_rf_tfidf, average='weighted')\n",
        "\n",
        "print(\"Model Evaluation Random Forest with TF-IDF\")\n",
        "print(f\"Accuracy: {accuracy_rf_tfidf:.4f}\")\n",
        "print(f\"Precision: {precision_rf_tfidf:.4f}\")\n",
        "print(f\"Recall: {recall_rf_tfidf:.4f}\")\n",
        "print(f\"F1 Score: {f1_rf_tfidf:.4f}\")"
      ],
      "metadata": {
        "colab": {
          "base_uri": "https://localhost:8080/"
        },
        "id": "QOMjckqM1nAL",
        "outputId": "f16b11b4-8635-4bfd-f331-636106627d02"
      },
      "execution_count": 55,
      "outputs": [
        {
          "output_type": "stream",
          "name": "stdout",
          "text": [
            "Model Evaluation Random Forest with TF-IDF\n",
            "Accuracy: 0.9230\n",
            "Precision: 0.9241\n",
            "Recall: 0.9230\n",
            "F1 Score: 0.9228\n"
          ]
        }
      ]
    },
    {
      "cell_type": "code",
      "execution_count": 56,
      "metadata": {
        "colab": {
          "base_uri": "https://localhost:8080/"
        },
        "id": "P65zltd9Qlr2",
        "outputId": "8676a707-e46b-4cca-cc2b-703e245eaed3"
      },
      "outputs": [
        {
          "output_type": "stream",
          "name": "stdout",
          "text": [
            "Classification Report Random Forest dengan TF-IDF:\n",
            "                         precision    recall  f1-score   support\n",
            "\n",
            "                 Books       0.93      0.93      0.93       488\n",
            "Clothing & Accessories       0.95      0.93      0.94       389\n",
            "           Electronics       0.95      0.85      0.90       391\n",
            "             Household       0.90      0.95      0.92       823\n",
            "\n",
            "              accuracy                           0.92      2091\n",
            "             macro avg       0.93      0.92      0.92      2091\n",
            "          weighted avg       0.92      0.92      0.92      2091\n",
            "\n"
          ]
        }
      ],
      "source": [
        "print(\"Classification Report Random Forest dengan TF-IDF:\\n\", classification_report(y_test, prediction_rf_tfidf))"
      ]
    },
    {
      "cell_type": "markdown",
      "metadata": {
        "id": "vJbgxRcBPPxu"
      },
      "source": [
        "### **Tuned SVM**"
      ]
    },
    {
      "cell_type": "code",
      "execution_count": 57,
      "metadata": {
        "colab": {
          "base_uri": "https://localhost:8080/"
        },
        "id": "Jc_WmHaA3zQ2",
        "outputId": "09c5f285-0c52-4d84-ec95-6eba0a151651"
      },
      "outputs": [
        {
          "output_type": "stream",
          "name": "stdout",
          "text": [
            "Best Parameters: {'C': 1, 'kernel': 'linear'}\n",
            "Best Estimator: SVC(C=1, kernel='linear')\n"
          ]
        }
      ],
      "source": [
        "param_grid_svm = {'C': [0.1, 1, 10], 'kernel': ['linear', 'rbf']}\n",
        "svm_model_tfidf_tuned = GridSearchCV(SVC(), param_grid_svm, cv=5)\n",
        "svm_model_tfidf_tuned.fit(x_train_tfidf, y_train)\n",
        "\n",
        "svm_predictions_tfidf_tuned = svm_model_tfidf_tuned.predict(x_test_tfidf)\n",
        "\n",
        "svm_tfidf_best_params = svm_model_tfidf_tuned.best_params_\n",
        "print(f\"Best Parameters: {svm_tfidf_best_params}\")\n",
        "\n",
        "svm_tfidf_best_estimator = svm_model_tfidf_tuned.best_estimator_\n",
        "print(f\"Best Estimator: {svm_tfidf_best_estimator}\")"
      ]
    },
    {
      "cell_type": "code",
      "source": [
        "accuracy_tuned_svm_tfidf = accuracy_score(y_test, svm_predictions_tfidf_tuned)\n",
        "precision_tuned_svm_tfidf = precision_score(y_test, svm_predictions_tfidf_tuned, average='weighted')\n",
        "recall_tuned_svm_tfidf = recall_score(y_test, svm_predictions_tfidf_tuned, average='weighted')\n",
        "f1_svm_tuned_tfidf = f1_score(y_test, svm_predictions_tfidf_tuned, average='weighted')\n",
        "\n",
        "print(\"Model Evaluation Tuned SVM with TF-IDF\")\n",
        "print(f\"Accuracy: {accuracy_tuned_svm_tfidf:.4f}\")\n",
        "print(f\"Precision: {precision_tuned_svm_tfidf:.4f}\")\n",
        "print(f\"Recall: {recall_tuned_svm_tfidf:.4f}\")\n",
        "print(f\"F1 Score: {f1_svm_tuned_tfidf:.4f}\")"
      ],
      "metadata": {
        "colab": {
          "base_uri": "https://localhost:8080/"
        },
        "id": "BiYxBW7R2GiX",
        "outputId": "15582f7c-57c8-43ed-aa35-70ee43ea0c3b"
      },
      "execution_count": 58,
      "outputs": [
        {
          "output_type": "stream",
          "name": "stdout",
          "text": [
            "Model Evaluation Tuned SVM with TF-IDF\n",
            "Accuracy: 0.9584\n",
            "Precision: 0.9585\n",
            "Recall: 0.9584\n",
            "F1 Score: 0.9584\n"
          ]
        }
      ]
    },
    {
      "cell_type": "code",
      "execution_count": 59,
      "metadata": {
        "colab": {
          "base_uri": "https://localhost:8080/"
        },
        "id": "pDsbtZn-H6sZ",
        "outputId": "29f5b2ba-2f93-4b54-facc-61331a68e30f"
      },
      "outputs": [
        {
          "output_type": "stream",
          "name": "stdout",
          "text": [
            "Classification Report Tuned SVM dengan TF-IDF:\n",
            "                         precision    recall  f1-score   support\n",
            "\n",
            "                 Books       0.96      0.95      0.96       488\n",
            "Clothing & Accessories       0.97      0.96      0.97       389\n",
            "           Electronics       0.94      0.95      0.95       391\n",
            "             Household       0.95      0.97      0.96       823\n",
            "\n",
            "              accuracy                           0.96      2091\n",
            "             macro avg       0.96      0.96      0.96      2091\n",
            "          weighted avg       0.96      0.96      0.96      2091\n",
            "\n"
          ]
        }
      ],
      "source": [
        "print(\"Classification Report Tuned SVM dengan TF-IDF:\\n\", classification_report(y_test, svm_predictions_tfidf_tuned))"
      ]
    },
    {
      "cell_type": "markdown",
      "metadata": {
        "id": "HKed95aBOyKZ"
      },
      "source": [
        "### **Tuned Random Forest**"
      ]
    },
    {
      "cell_type": "code",
      "execution_count": 60,
      "metadata": {
        "colab": {
          "base_uri": "https://localhost:8080/"
        },
        "id": "StFQadAqmydz",
        "outputId": "53523735-9ce4-46fe-ca65-0c811db88f3f"
      },
      "outputs": [
        {
          "output_type": "stream",
          "name": "stdout",
          "text": [
            "Fitting 3 folds for each of 24 candidates, totalling 72 fits\n",
            "Best Parameters: {'bootstrap': False, 'max_depth': None, 'n_estimators': 200}\n",
            "Best Estimator: RandomForestClassifier(bootstrap=False, n_estimators=200)\n"
          ]
        }
      ],
      "source": [
        "param_grid_rf = {'n_estimators': [50, 100, 200],\n",
        "                 'max_depth': [10, 20, 30, None],\n",
        "                 'bootstrap': [True, False]}\n",
        "rf_model_tfidf_tuned = GridSearchCV(RandomForestClassifier(), param_grid = param_grid_rf, cv=3, n_jobs = -1, verbose = 2, scoring = 'accuracy')\n",
        "rf_model_tfidf_tuned.fit(x_train_tfidf, y_train)\n",
        "\n",
        "rf_tfidf_best_params = rf_model_tfidf_tuned.best_params_\n",
        "print(f\"Best Parameters: {rf_tfidf_best_params}\")\n",
        "\n",
        "rf_tfidf_best_estimator = rf_model_tfidf_tuned.best_estimator_\n",
        "print(f\"Best Estimator: {rf_tfidf_best_estimator}\")\n",
        "\n",
        "\n",
        "prediction_rf_tfidf_tuned = rf_model_tfidf_tuned.predict(x_test_tfidf)"
      ]
    },
    {
      "cell_type": "code",
      "source": [
        "accuracy_tuned_rf_tfidf = accuracy_score(y_test, prediction_rf_tfidf_tuned)\n",
        "precision_tuned_rf_tfidf = precision_score(y_test, prediction_rf_tfidf_tuned, average='weighted')\n",
        "recall_tuned_rf_tfidf = recall_score(y_test, prediction_rf_tfidf_tuned, average='weighted')\n",
        "f1_rf_tuned_tfidf = f1_score(y_test, prediction_rf_tfidf_tuned, average='weighted')\n",
        "\n",
        "print(\"Model Evaluation Tuned Random Forest with TF-IDF\")\n",
        "print(f\"Accuracy: {accuracy_tuned_rf_tfidf:.4f}\")\n",
        "print(f\"Precision: {precision_tuned_rf_tfidf:.4f}\")\n",
        "print(f\"Recall: {recall_tuned_rf_tfidf:.4f}\")\n",
        "print(f\"F1 Score: {f1_rf_tuned_tfidf:.4f}\")"
      ],
      "metadata": {
        "colab": {
          "base_uri": "https://localhost:8080/"
        },
        "id": "LjzMgQgH2bGH",
        "outputId": "0acf27c3-4880-42b4-ef7d-3fdb6cabee0c"
      },
      "execution_count": 61,
      "outputs": [
        {
          "output_type": "stream",
          "name": "stdout",
          "text": [
            "Model Evaluation Tuned Random Forest with TF-IDF\n",
            "Accuracy: 0.9311\n",
            "Precision: 0.9324\n",
            "Recall: 0.9311\n",
            "F1 Score: 0.9311\n"
          ]
        }
      ]
    },
    {
      "cell_type": "code",
      "execution_count": 62,
      "metadata": {
        "colab": {
          "base_uri": "https://localhost:8080/"
        },
        "id": "Dh5URiq9OoKQ",
        "outputId": "7c9408d4-0746-4c68-923c-94a7e8df431d"
      },
      "outputs": [
        {
          "output_type": "stream",
          "name": "stdout",
          "text": [
            "Classification Report Tuned Random Forest dengan TF-IDF:\n",
            "                         precision    recall  f1-score   support\n",
            "\n",
            "                 Books       0.95      0.93      0.94       488\n",
            "Clothing & Accessories       0.96      0.93      0.95       389\n",
            "           Electronics       0.94      0.87      0.91       391\n",
            "             Household       0.90      0.96      0.93       823\n",
            "\n",
            "              accuracy                           0.93      2091\n",
            "             macro avg       0.94      0.92      0.93      2091\n",
            "          weighted avg       0.93      0.93      0.93      2091\n",
            "\n"
          ]
        }
      ],
      "source": [
        "print(\"Classification Report Tuned Random Forest dengan TF-IDF:\\n\", classification_report(y_test, prediction_rf_tfidf_tuned))"
      ]
    },
    {
      "cell_type": "markdown",
      "metadata": {
        "id": "ClP33Ee14Cf_"
      },
      "source": [
        "## **Vectorizer: CountVectorizer**"
      ]
    },
    {
      "cell_type": "code",
      "execution_count": 63,
      "metadata": {
        "id": "qCzkGP9nnHGW"
      },
      "outputs": [],
      "source": [
        "from sklearn.feature_extraction.text import CountVectorizer"
      ]
    },
    {
      "cell_type": "code",
      "execution_count": 64,
      "metadata": {
        "id": "rjZKspZS4XuJ"
      },
      "outputs": [],
      "source": [
        "cvectorizer = CountVectorizer()\n",
        "x_train_cv = cvectorizer.fit_transform(x_train)\n",
        "x_test_cv = cvectorizer.transform(x_test)\n",
        "y = df['label']"
      ]
    },
    {
      "cell_type": "markdown",
      "metadata": {
        "id": "coh5iKhHOL3J"
      },
      "source": [
        "### **SVM**"
      ]
    },
    {
      "cell_type": "code",
      "execution_count": 65,
      "metadata": {
        "id": "TAd2ATfx4qzP"
      },
      "outputs": [],
      "source": [
        "svm_model = SVC()\n",
        "svm_model.fit(x_train_cv, y_train)\n",
        "prediction_svm_cv = svm_model.predict(x_test_cv)"
      ]
    },
    {
      "cell_type": "code",
      "source": [
        "accuracy_svm_cv = accuracy_score(y_test, prediction_svm_cv)\n",
        "precision_svm_cv = precision_score(y_test, prediction_svm_cv, average='weighted')\n",
        "recall_svm_cv = recall_score(y_test, prediction_svm_cv, average='weighted')\n",
        "f1_svm_cv = f1_score(y_test, prediction_svm_cv, average='weighted')\n",
        "\n",
        "print(\"Model Evaluation SVM with CountVectorizer\")\n",
        "print(f\"Accuracy: {accuracy_svm_cv:.4f}\")\n",
        "print(f\"Precision: {precision_svm_cv:.4f}\")\n",
        "print(f\"Recall: {recall_svm_cv:.4f}\")\n",
        "print(f\"F1 Score: {f1_svm_cv:.4f}\")"
      ],
      "metadata": {
        "colab": {
          "base_uri": "https://localhost:8080/"
        },
        "id": "0sg_iwae2yEU",
        "outputId": "05c82908-d2dc-4eda-8909-c5ba406b3825"
      },
      "execution_count": 66,
      "outputs": [
        {
          "output_type": "stream",
          "name": "stdout",
          "text": [
            "Model Evaluation SVM with CountVectorizer\n",
            "Accuracy: 0.9044\n",
            "Precision: 0.9076\n",
            "Recall: 0.9044\n",
            "F1 Score: 0.9047\n"
          ]
        }
      ]
    },
    {
      "cell_type": "code",
      "execution_count": 67,
      "metadata": {
        "colab": {
          "base_uri": "https://localhost:8080/"
        },
        "id": "8jgZFod8LIm8",
        "outputId": "ca062b53-f210-4e16-b2ac-eb89da6dbf96"
      },
      "outputs": [
        {
          "output_type": "stream",
          "name": "stdout",
          "text": [
            "SVM Classification Report SVM dengan CountVectorizer:\n",
            "                         precision    recall  f1-score   support\n",
            "\n",
            "                 Books       0.83      0.93      0.88       488\n",
            "Clothing & Accessories       0.96      0.86      0.91       389\n",
            "           Electronics       0.94      0.87      0.90       391\n",
            "             Household       0.91      0.92      0.92       823\n",
            "\n",
            "              accuracy                           0.90      2091\n",
            "             macro avg       0.91      0.90      0.90      2091\n",
            "          weighted avg       0.91      0.90      0.90      2091\n",
            "\n"
          ]
        }
      ],
      "source": [
        "print(\"SVM Classification Report SVM dengan CountVectorizer:\\n\", classification_report(y_test, prediction_svm_cv))"
      ]
    },
    {
      "cell_type": "markdown",
      "metadata": {
        "id": "KJONcolSOGuO"
      },
      "source": [
        "### **Random Forest**"
      ]
    },
    {
      "cell_type": "code",
      "execution_count": 68,
      "metadata": {
        "id": "gwQej5hq4rnj"
      },
      "outputs": [],
      "source": [
        "rf_model = RandomForestClassifier()\n",
        "rf_model.fit(x_train_cv, y_train)\n",
        "prediction_rf_cv = rf_model.predict(x_test_cv)"
      ]
    },
    {
      "cell_type": "code",
      "source": [
        "accuracy_rf_cv = accuracy_score(y_test, prediction_rf_cv)\n",
        "precision_rf_cv = precision_score(y_test, prediction_rf_cv, average='weighted')\n",
        "recall_rf_cv = recall_score(y_test, prediction_rf_cv, average='weighted')\n",
        "f1_rf_cv = f1_score(y_test, prediction_rf_cv, average='weighted')\n",
        "\n",
        "print(\"Model Evaluation Random Forest with CountVectorizer\")\n",
        "print(f\"Accuracy: {accuracy_rf_cv:.4f}\")\n",
        "print(f\"Precision: {precision_rf_cv:.4f}\")\n",
        "print(f\"Recall: {recall_rf_cv:.4f}\")\n",
        "print(f\"F1 Score: {f1_rf_cv:.4f}\")"
      ],
      "metadata": {
        "colab": {
          "base_uri": "https://localhost:8080/"
        },
        "id": "qckSqacu3Fw_",
        "outputId": "ee96e675-2dff-44f6-af3d-f32c824a1723"
      },
      "execution_count": 69,
      "outputs": [
        {
          "output_type": "stream",
          "name": "stdout",
          "text": [
            "Model Evaluation Random Forest with CountVectorizer\n",
            "Accuracy: 0.9249\n",
            "Precision: 0.9262\n",
            "Recall: 0.9249\n",
            "F1 Score: 0.9247\n"
          ]
        }
      ]
    },
    {
      "cell_type": "code",
      "execution_count": 93,
      "metadata": {
        "colab": {
          "base_uri": "https://localhost:8080/",
          "height": 0
        },
        "id": "zwRBOEqTLadQ",
        "outputId": "e07600f4-fa18-4bed-9ad8-11fd5fe20bdb"
      },
      "outputs": [
        {
          "output_type": "stream",
          "name": "stdout",
          "text": [
            "SVM Classification Report Random Forest dengan CountVectorizer:\n",
            "                         precision    recall  f1-score   support\n",
            "\n",
            "                 Books       0.93      0.93      0.93       488\n",
            "Clothing & Accessories       0.95      0.92      0.93       389\n",
            "           Electronics       0.95      0.86      0.90       391\n",
            "             Household       0.90      0.95      0.92       823\n",
            "\n",
            "              accuracy                           0.92      2091\n",
            "             macro avg       0.93      0.91      0.92      2091\n",
            "          weighted avg       0.92      0.92      0.92      2091\n",
            "\n"
          ]
        }
      ],
      "source": [
        "print(\"SVM Classification Report Random Forest dengan CountVectorizer:\\n\", classification_report(y_test, prediction_rf_cv))"
      ]
    },
    {
      "cell_type": "markdown",
      "metadata": {
        "id": "JLwczRcSN-at"
      },
      "source": [
        "### **Tuned SVM**"
      ]
    },
    {
      "cell_type": "code",
      "execution_count": 70,
      "metadata": {
        "id": "0fa5vHxhFCmy",
        "colab": {
          "base_uri": "https://localhost:8080/"
        },
        "outputId": "281a5486-46d1-4c66-9306-59d70cd97047"
      },
      "outputs": [
        {
          "output_type": "stream",
          "name": "stdout",
          "text": [
            "Best Parameters: {'C': 0.1, 'kernel': 'linear'}\n",
            "Best Estimator: SVC(C=0.1, kernel='linear')\n"
          ]
        }
      ],
      "source": [
        "param_grid_svm = {'C': [0.1, 1, 10], 'kernel': ['linear', 'rbf']}\n",
        "svm_model_cv_tuned = GridSearchCV(SVC(), param_grid_svm, cv=5)\n",
        "svm_model_cv_tuned.fit(x_train_cv, y_train)\n",
        "\n",
        "svm_prediction_cv_tuned = svm_model_cv_tuned.predict(x_test_cv)\n",
        "\n",
        "svm_cv_best_params = svm_model_cv_tuned.best_params_\n",
        "print(f\"Best Parameters: {svm_cv_best_params}\")\n",
        "\n",
        "svm_cv_best_estimator = svm_model_cv_tuned.best_estimator_\n",
        "print(f\"Best Estimator: {svm_cv_best_estimator}\")"
      ]
    },
    {
      "cell_type": "code",
      "source": [
        "accuracy_tuned_svm_cv = accuracy_score(y_test, svm_prediction_cv_tuned)\n",
        "precision_tuned_svm_cv = precision_score(y_test, svm_prediction_cv_tuned, average='weighted')\n",
        "recall_tuned_svm_cv = recall_score(y_test, svm_prediction_cv_tuned, average='weighted')\n",
        "f1_svm_tuned_cv = f1_score(y_test, svm_prediction_cv_tuned, average='weighted')\n",
        "\n",
        "print(\"Model Evaluation Tuned SVM with CountVectorizer\")\n",
        "print(f\"Accuracy: {accuracy_tuned_svm_cv:.4f}\")\n",
        "print(f\"Precision: {precision_tuned_svm_cv:.4f}\")\n",
        "print(f\"Recall: {recall_tuned_svm_cv:.4f}\")\n",
        "print(f\"F1 Score: {f1_svm_tuned_cv:.4f}\")"
      ],
      "metadata": {
        "colab": {
          "base_uri": "https://localhost:8080/"
        },
        "id": "33H7lMvW8iVA",
        "outputId": "0d89faef-ffc0-4b8b-b8d0-3d4840e64fe5"
      },
      "execution_count": 71,
      "outputs": [
        {
          "output_type": "stream",
          "name": "stdout",
          "text": [
            "Model Evaluation Tuned SVM with CountVectorizer\n",
            "Accuracy: 0.9264\n",
            "Precision: 0.9268\n",
            "Recall: 0.9264\n",
            "F1 Score: 0.9264\n"
          ]
        }
      ]
    },
    {
      "cell_type": "code",
      "execution_count": 72,
      "metadata": {
        "id": "mbo_Bmc1Faak",
        "colab": {
          "base_uri": "https://localhost:8080/"
        },
        "outputId": "3da1f1d7-8777-4684-a467-cf264d2bf194"
      },
      "outputs": [
        {
          "output_type": "stream",
          "name": "stdout",
          "text": [
            "Classification Report Tuned SVM dengan CountVectorizer:\n",
            "                         precision    recall  f1-score   support\n",
            "\n",
            "                 Books       0.89      0.94      0.92       488\n",
            "Clothing & Accessories       0.95      0.94      0.94       389\n",
            "           Electronics       0.92      0.89      0.91       391\n",
            "             Household       0.94      0.93      0.93       823\n",
            "\n",
            "              accuracy                           0.93      2091\n",
            "             macro avg       0.93      0.92      0.92      2091\n",
            "          weighted avg       0.93      0.93      0.93      2091\n",
            "\n"
          ]
        }
      ],
      "source": [
        "print(\"Classification Report Tuned SVM dengan CountVectorizer:\\n\", classification_report(y_test, svm_prediction_cv_tuned))"
      ]
    },
    {
      "cell_type": "markdown",
      "metadata": {
        "id": "s3Si8JhUN4n3"
      },
      "source": [
        "### **Tuned Random Forest**"
      ]
    },
    {
      "cell_type": "code",
      "execution_count": 73,
      "metadata": {
        "id": "bNTI9efjFcsK",
        "colab": {
          "base_uri": "https://localhost:8080/"
        },
        "outputId": "0cbd2c4a-5520-4468-eefa-1b569c5d15c2"
      },
      "outputs": [
        {
          "output_type": "stream",
          "name": "stdout",
          "text": [
            "Fitting 3 folds for each of 24 candidates, totalling 72 fits\n",
            "Best Parameters: {'bootstrap': False, 'max_depth': None, 'n_estimators': 100}\n",
            "Best Estimator: RandomForestClassifier(bootstrap=False)\n"
          ]
        }
      ],
      "source": [
        "param_grid_rf = {'n_estimators': [50, 100, 200],\n",
        "                 'max_depth': [10, 20, 30, None],\n",
        "                 'bootstrap': [True, False]}\n",
        "rf_model_cv_tuned = GridSearchCV(RandomForestClassifier(), param_grid = param_grid_rf, cv=3, n_jobs = -1, verbose = 2, scoring = 'accuracy')\n",
        "rf_model_cv_tuned.fit(x_train_cv, y_train)\n",
        "\n",
        "rf_cv_best_params = rf_model_cv_tuned.best_params_\n",
        "print(f\"Best Parameters: {rf_cv_best_params}\")\n",
        "\n",
        "rf_cv_best_estimator = rf_model_cv_tuned.best_estimator_\n",
        "print(f\"Best Estimator: {rf_cv_best_estimator}\")\n",
        "\n",
        "rf_prediction_cv_tuned = rf_model_cv_tuned.predict(x_test_cv)"
      ]
    },
    {
      "cell_type": "code",
      "source": [
        "accuracy_tuned_rf_cv = accuracy_score(y_test, rf_prediction_cv_tuned)\n",
        "precision_tuned_rf_cv = precision_score(y_test, rf_prediction_cv_tuned, average='weighted')\n",
        "recall_tuned_rf_cv = recall_score(y_test, rf_prediction_cv_tuned, average='weighted')\n",
        "f1_rf_tuned_cv = f1_score(y_test, rf_prediction_cv_tuned, average='weighted')\n",
        "\n",
        "print(\"Model Evaluation Tuned Random Forest with CountVectorizer\")\n",
        "print(f\"Accuracy: {accuracy_tuned_rf_cv:.4f}\")\n",
        "print(f\"Precision: {precision_tuned_rf_cv:.4f}\")\n",
        "print(f\"Recall: {recall_tuned_rf_cv:.4f}\")\n",
        "print(f\"F1 Score: {f1_rf_tuned_cv:.4f}\")"
      ],
      "metadata": {
        "colab": {
          "base_uri": "https://localhost:8080/"
        },
        "id": "ZSaV8HY786ZU",
        "outputId": "3e8df94d-8d51-4b85-d678-336de42d39f3"
      },
      "execution_count": 74,
      "outputs": [
        {
          "output_type": "stream",
          "name": "stdout",
          "text": [
            "Model Evaluation Tuned Random Forest with CountVectorizer\n",
            "Accuracy: 0.9287\n",
            "Precision: 0.9298\n",
            "Recall: 0.9287\n",
            "F1 Score: 0.9286\n"
          ]
        }
      ]
    },
    {
      "cell_type": "code",
      "execution_count": 75,
      "metadata": {
        "id": "J8y5QJmCFgKc",
        "colab": {
          "base_uri": "https://localhost:8080/"
        },
        "outputId": "ef73cc25-50ff-4686-dece-6d0a0be5eee5"
      },
      "outputs": [
        {
          "output_type": "stream",
          "name": "stdout",
          "text": [
            "Classification Report Tuned Random Forest dengan CountVectorizer:\n",
            "                         precision    recall  f1-score   support\n",
            "\n",
            "                 Books       0.95      0.93      0.94       488\n",
            "Clothing & Accessories       0.95      0.93      0.94       389\n",
            "           Electronics       0.95      0.87      0.91       391\n",
            "             Household       0.90      0.96      0.93       823\n",
            "\n",
            "              accuracy                           0.93      2091\n",
            "             macro avg       0.94      0.92      0.93      2091\n",
            "          weighted avg       0.93      0.93      0.93      2091\n",
            "\n"
          ]
        }
      ],
      "source": [
        "print(\"Classification Report Tuned Random Forest dengan CountVectorizer:\\n\", classification_report(y_test, rf_prediction_cv_tuned))"
      ]
    },
    {
      "cell_type": "markdown",
      "source": [
        "### **Table Perbandingan Model**"
      ],
      "metadata": {
        "id": "2quqMCTw_ZsE"
      }
    },
    {
      "cell_type": "markdown",
      "source": [
        "![table perbandingan.png](data:image/png;base64,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)"
      ],
      "metadata": {
        "id": "H9WmlYBu_LZR"
      }
    },
    {
      "cell_type": "markdown",
      "source": [
        "Dari hasil tabel di atas dapat disimpulkan bahwa metode terbaik untuk mengklasifikasikan produk adalah algoritma machine learning SVM dengan TF-IDF sebagai vectorizernya. Model ini mendapatkan akurasi sebesar 0.9536 sebelum di-tuned dan 0.9589 setelah di-tuned."
      ],
      "metadata": {
        "id": "h8AiXYet0QH_"
      }
    },
    {
      "cell_type": "code",
      "source": [],
      "metadata": {
        "id": "6kAoQxW6_YHa"
      },
      "execution_count": null,
      "outputs": []
    },
    {
      "cell_type": "markdown",
      "source": [
        "# LINK VIDEO [Video No 2](https://drive.google.com/file/d/1A-TQVpXCjl4n65bBlhJI9DiW1J4HXGNL/view?usp=sharing)"
      ],
      "metadata": {
        "id": "aSu2ZtQtAYri"
      }
    },
    {
      "cell_type": "code",
      "source": [],
      "metadata": {
        "id": "KMHuiODQAbIC"
      },
      "execution_count": null,
      "outputs": []
    }
  ],
  "metadata": {
    "colab": {
      "provenance": []
    },
    "kernelspec": {
      "display_name": "Python 3",
      "name": "python3"
    },
    "language_info": {
      "name": "python"
    }
  },
  "nbformat": 4,
  "nbformat_minor": 0
}